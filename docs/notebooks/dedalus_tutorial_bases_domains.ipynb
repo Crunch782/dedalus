{
 "cells": [
  {
   "cell_type": "markdown",
   "metadata": {},
   "source": [
    "# Tutorial 1: Bases and Domains"
   ]
  },
  {
   "cell_type": "markdown",
   "metadata": {},
   "source": [
    "This tutorial covers the basics of setting up and interacting with basis and domain objects in Dedalus."
   ]
  },
  {
   "cell_type": "markdown",
   "metadata": {},
   "source": [
    "First, we'll import the public interface and suppress some of the logging messages:"
   ]
  },
  {
   "cell_type": "code",
   "execution_count": 1,
   "metadata": {},
   "outputs": [],
   "source": [
    "from dedalus import public as de\n",
    "import numpy as np\n",
    "import matplotlib.pyplot as plt\n",
    "\n",
    "de.logging_setup.rootlogger.setLevel('ERROR')\n",
    "%matplotlib inline"
   ]
  },
  {
   "cell_type": "markdown",
   "metadata": {},
   "source": [
    "## 1.1: Bases"
   ]
  },
  {
   "cell_type": "markdown",
   "metadata": {},
   "source": [
    "### Creating a basis"
   ]
  },
  {
   "cell_type": "markdown",
   "metadata": {},
   "source": [
    "Each basis is represented by a separate class, e.g. `Chebyshev`, `SinCos`, and `Fourier`.  When instantiating a basis, you provide a name for the basis, the number of modes, and the endpoints of the basis interval as a `(left, right)` tuple.  \n",
    "\n",
    "Optionally, you can specify a dealiasing scaling factor, indicating how much to pad the tracked modes when transforming to grid space.  To properly dealias quadratic nonlinearities, for instance, you would need a scaling factor $\\ge 3/2$."
   ]
  },
  {
   "cell_type": "code",
   "execution_count": 2,
   "metadata": {},
   "outputs": [],
   "source": [
    "xbasis = de.Chebyshev('x', 32, interval=(0,5), dealias=3/2)"
   ]
  },
  {
   "cell_type": "markdown",
   "metadata": {},
   "source": [
    "### Basis methods & attributes"
   ]
  },
  {
   "cell_type": "markdown",
   "metadata": {},
   "source": [
    "Basis objects have associated methods for transforming and operating on fields, and defining the sparse matrices used to solve the linear portions of PDEs in Dedalus.  However, these features are not typically directly accessed through the basis objects, but rather through field methods and operators, which we'll cover in later notebooks."
   ]
  },
  {
   "cell_type": "markdown",
   "metadata": {},
   "source": [
    "### Basis grids and scale factors"
   ]
  },
  {
   "cell_type": "markdown",
   "metadata": {},
   "source": [
    "The global grid of a basis can be easily accessed using the basis object's `grid` method, where you'll have to pass a scale factor determining the number of points in the grid, relative to the number of basis modes.  Here we'll show the Chebyshev grids with scaling factors of $1$ and $3/2$."
   ]
  },
  {
   "cell_type": "code",
   "execution_count": 3,
   "metadata": {},
   "outputs": [
    {
     "data": {
      "image/png": "[encoded data removed]",
      "text/plain": [
       "<Figure size 720x72 with 1 Axes>"
      ]
     },
     "metadata": {
      "needs_background": "light"
     },
     "output_type": "display_data"
    }
   ],
   "source": [
    "grid_normal = xbasis.grid(scale=1)\n",
    "grid_dealias = xbasis.grid(scale=3/2)\n",
    "\n",
    "plt.figure(figsize=(10, 1))\n",
    "plt.plot(grid_normal, np.zeros_like(grid_normal)+1, 'o', markersize=5)\n",
    "plt.plot(grid_dealias, np.zeros_like(grid_dealias)-1, 'o', markersize=5)\n",
    "plt.ylim([-2, 2])\n",
    "plt.gca().yaxis.set_ticks([]);"
   ]
  },
  {
   "cell_type": "markdown",
   "metadata": {},
   "source": [
    "### Compound bases"
   ]
  },
  {
   "cell_type": "markdown",
   "metadata": {},
   "source": [
    "A compound basis consisting of stacked Chebyshev segments can be constructed simply by grouping a set of individual Chebyshev bases defined over adjacent intervals."
   ]
  },
  {
   "cell_type": "code",
   "execution_count": 4,
   "metadata": {},
   "outputs": [],
   "source": [
    "xb1 = de.Chebyshev('x1', 16, interval=(0,2))\n",
    "xb2 = de.Chebyshev('x2', 32, interval=(2,8))\n",
    "xb3 = de.Chebyshev('x3', 16, interval=(8,10))\n",
    "xbasis = de.Compound('x', (xb1, xb2, xb3))"
   ]
  },
  {
   "cell_type": "markdown",
   "metadata": {},
   "source": [
    "Since we use the interior roots grid for the Chebyshev polynomials, the grid of the compound bases is simply the union of the subbasis grids.  When solving a problem with Dedalus, the continuity of fields across the subbasis interfaces is internally enforced."
   ]
  },
  {
   "cell_type": "code",
   "execution_count": 5,
   "metadata": {},
   "outputs": [
    {
     "data": {
      "image/png": "[encoded data removed]",
      "text/plain": [
       "<Figure size 720x72 with 1 Axes>"
      ]
     },
     "metadata": {
      "needs_background": "light"
     },
     "output_type": "display_data"
    }
   ],
   "source": [
    "compound_grid = xbasis.grid(scale=1)\n",
    "\n",
    "plt.figure(figsize=(10, 1))\n",
    "plt.plot(compound_grid, np.zeros_like(compound_grid), 'o', markersize=5)\n",
    "plt.gca().yaxis.set_ticks([]);"
   ]
  },
  {
   "cell_type": "markdown",
   "metadata": {},
   "source": [
    "## 1.2: Domains"
   ]
  },
  {
   "cell_type": "markdown",
   "metadata": {},
   "source": [
    "### Creating a domain"
   ]
  },
  {
   "cell_type": "markdown",
   "metadata": {},
   "source": [
    "Domain objects represent physical domains, spanned by the direct product of a set of orthogonal bases.  To build a domain, we pass a list of the composite bases, specify the (grid-space) datatype, and optionally specify the process mesh for parallelization.  Let's construct a real 3D domain using Fourier and Chebyshev bases."
   ]
  },
  {
   "cell_type": "code",
   "execution_count": 6,
   "metadata": {},
   "outputs": [],
   "source": [
    "xbasis = de.Fourier('x', 8, interval=(0,2), dealias=3/2)\n",
    "ybasis = de.Fourier('y', 8, interval=(0,2), dealias=3/2)\n",
    "zbasis = de.Chebyshev('z', 8, interval=(0,1), dealias=3/2)\n",
    "domain = de.Domain([xbasis, ybasis, zbasis], grid_dtype=np.float64, mesh=[1]);"
   ]
  },
  {
   "cell_type": "markdown",
   "metadata": {},
   "source": [
    "### Parallelization & process mesh"
   ]
  },
  {
   "cell_type": "markdown",
   "metadata": {},
   "source": [
    "Dedalus currently supports $N$-dimensional domains where the first (N-1) dimensions are separable, meaning that the linear parts of the transformed differential equations are uncoupled between modes in this subspace.  The currently implemented separable bases are the `Fourier` basis for periodic intervals, and the `SinCos` (parity) basis for problems where the variables exhibit definite parity about the interval endpoints.\n",
    "\n",
    "Problems can be easily parallelized over the separable dimensions, and Dedalus supports distribution over arbitrary (N-1)-dimensional process meshes.  The current MPI environment must have the same number of processes as the product of the mesh shape.  By default, problems are distributed across a 1-dimensional mesh of all the available MPI processes, but specifying a higher-dimensional mesh when possible will typically improve performance."
   ]
  },
  {
   "cell_type": "markdown",
   "metadata": {},
   "source": [
    "### Layouts"
   ]
  },
  {
   "cell_type": "markdown",
   "metadata": {},
   "source": [
    "The primary function of the domain object is to build the machinery necessary for the parallelized allocation and transformation of fields.  This is done by creating `layout` objects describing the necessary transform/distribution states of the data between coefficient space and grid space.  Subsequent layouts are connected by basis transforms, which must be performed locally, and global transposes (rearrangements of the data distribution across the process mesh) to achieve the required locality.\n",
    "\n",
    "The general algorithm starts from coefficient space, with the last axis local (non-distributed).  It proceeds to grid space by transforming the last axis into grid space, globally transposing the data such that the preceding axis is local, transforming that axis into grid space, etc.  \n",
    "\n",
    "Let's examine the layouts for the domain we just constructed:"
   ]
  },
  {
   "cell_type": "code",
   "execution_count": 7,
   "metadata": {},
   "outputs": [
    {
     "name": "stdout",
     "output_type": "stream",
     "text": [
      "Layout 0:  Grid space: [False False False]  Local: [ True  True  True]\n",
      "Layout 1:  Grid space: [False False  True]  Local: [ True  True  True]\n",
      "Layout 2:  Grid space: [False  True  True]  Local: [ True  True  True]\n",
      "Layout 3:  Grid space: [ True  True  True]  Local: [ True  True  True]\n"
     ]
    }
   ],
   "source": [
    "for layout in domain.distributor.layouts:\n",
    "    print('Layout {}:  Grid space: {}  Local: {}'.format(layout.index, layout.grid_space, layout.local))"
   ]
  },
  {
   "cell_type": "markdown",
   "metadata": {},
   "source": [
    "Since this is being performed serially, no global transposes are necessary (all axes are local), and the paths between layouts consist of coefficient-to-grid transforms, backwards from the last axis.\n",
    "\n",
    "To see how things work for a distributed simulation, we'll change the process mesh and rebuild the layout objects, circumventing the internal checks on the number of available processes, etc.\n",
    "\n",
    "**Note this is for demonstration only... messing with these attributes will generally break things.**"
   ]
  },
  {
   "cell_type": "code",
   "execution_count": 8,
   "metadata": {},
   "outputs": [],
   "source": [
    "# Don't do this.\n",
    "domain.distributor.mesh = np.array([4, 2])\n",
    "domain.distributor.coords = np.array([0, 0])\n",
    "domain.distributor._build_layouts(domain, dry_run=True)"
   ]
  },
  {
   "cell_type": "code",
   "execution_count": 9,
   "metadata": {},
   "outputs": [
    {
     "name": "stdout",
     "output_type": "stream",
     "text": [
      "Layout 0:  Grid space: [False False False]  Local: [False False  True]\n",
      "Layout 1:  Grid space: [False False  True]  Local: [False False  True]\n",
      "Layout 2:  Grid space: [False False  True]  Local: [False  True False]\n",
      "Layout 3:  Grid space: [False  True  True]  Local: [False  True False]\n",
      "Layout 4:  Grid space: [False  True  True]  Local: [ True False False]\n",
      "Layout 5:  Grid space: [ True  True  True]  Local: [ True False False]\n"
     ]
    }
   ],
   "source": [
    "for layout in domain.distributor.layouts:\n",
    "    print('Layout {}:  Grid space: {}  Local: {}'.format(layout.index, layout.grid_space, layout.local))"
   ]
  },
  {
   "cell_type": "markdown",
   "metadata": {},
   "source": [
    "We can see that there are two additional layouts, corresponding to the transposed states of the mixed-transform layouts.  Two global transposes are necessary in order for the $y$ and $x$ axes to be stored locally, which is required in order to perform the respective basis transforms.\n",
    "\n",
    "Interacting with the layout objects directly is typically not necessary, but being aware of this system for controlling the distribution and tranformation state of data is important for interacting with field objects, as we'll see in future notebooks."
   ]
  },
  {
   "cell_type": "markdown",
   "metadata": {},
   "source": [
    "### Distributed grids"
   ]
  },
  {
   "cell_type": "markdown",
   "metadata": {},
   "source": [
    "Domain objects construct properly oriented arrays representing the local portions of the basis grids, for use in creating field data, setting initial conditions, etc.\n",
    "\n",
    "The axis 0 grid is the full $x$-basis Fourier grid, since the first axis is local in grid space (i.e. the last `layout`).  The axis 1 and 2 grids are the local portions of the $y$ and $z$ basis Fourier and Chebyshev grids, distributed across the specified process mesh (4 and 2 processes, respectively).\n",
    "\n",
    "Scale factors for the grids can be specified as a tuple (one scale for each dimension), or as a scalar to apply the same scaling to each dimension."
   ]
  },
  {
   "cell_type": "code",
   "execution_count": 10,
   "metadata": {},
   "outputs": [
    {
     "name": "stdout",
     "output_type": "stream",
     "text": [
      "Grid 0 shape: (8, 1, 1)\n",
      "Grid 1 shape: (1, 2, 1)\n",
      "Grid 2 shape: (1, 1, 4)\n"
     ]
    }
   ],
   "source": [
    "print('Grid 0 shape:', domain.grid(0, scales=1).shape)\n",
    "print('Grid 1 shape:', domain.grid(1, scales=1).shape)\n",
    "print('Grid 2 shape:', domain.grid(2, scales=1).shape)"
   ]
  }
 ],
 "metadata": {
  "kernelspec": {
   "display_name": "Python [conda env:dedalus]",
   "language": "python",
   "name": "conda-env-dedalus-py"
  },
  "language_info": {
   "codemirror_mode": {
    "name": "ipython",
    "version": 3
   },
   "file_extension": ".py",
   "mimetype": "text/x-python",
   "name": "python",
   "nbconvert_exporter": "python",
   "pygments_lexer": "ipython3",
   "version": "3.6.8"
  }
 },
 "nbformat": 4,
 "nbformat_minor": 1
}
